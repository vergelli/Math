{
 "cells": [
  {
   "cell_type": "code",
   "execution_count": 210,
   "metadata": {},
   "outputs": [],
   "source": [
    "%matplotlib inline\n",
    "#Modulos\n",
    "import math as mt\n",
    "import numpy as np\n",
    "import matplotlib.pyplot as plt\n",
    "from matplotlib.pyplot import figure\n",
    "from sympy import *\n",
    "n, k, i = symbols('n,k,i')\n",
    "from sympy.abc import i, k, m, n, x\n",
    "from sympy import Sum, factorial, oo, IndexedBase, Function\n",
    "init_printing(use_latex=\"mathjax\")"
   ]
  },
  {
   "cell_type": "markdown",
   "metadata": {},
   "source": [
    "### La siguiente Serie, de \" Gregory-Madhava-Leibniz\", usualmente denotada solo como serie de\"Leibniz\", converge a Pi."
   ]
  },
  {
   "cell_type": "code",
   "execution_count": 217,
   "metadata": {
    "scrolled": false
   },
   "outputs": [
    {
     "data": {
      "text/latex": [
       "$$\\sum_{i=0}^{n} \\frac{\\left(-1\\right)^{i}}{2 i + 1}$$"
      ],
      "text/plain": [
       "  n          \n",
       " ____        \n",
       " ╲           \n",
       "  ╲        i \n",
       "   ╲   (-1)  \n",
       "   ╱  ───────\n",
       "  ╱   2⋅i + 1\n",
       " ╱           \n",
       " ‾‾‾‾        \n",
       "i = 0        "
      ]
     },
     "execution_count": 217,
     "metadata": {},
     "output_type": "execute_result"
    }
   ],
   "source": [
    "Sum(((-1)**i)/(2*i+1), (i, 0, n))"
   ]
  },
  {
   "cell_type": "code",
   "execution_count": 229,
   "metadata": {},
   "outputs": [],
   "source": [
    "def Pi(Int):\n",
    "    \n",
    "    global ys\n",
    "    ys = []\n",
    "    for i in range( Int):\n",
    "        ys.append(((-1)**i)/( 2*i+1))\n",
    "    \n",
    "    return sum(ys)*4"
   ]
  },
  {
   "cell_type": "code",
   "execution_count": 239,
   "metadata": {},
   "outputs": [],
   "source": [
    "ws = []\n",
    "for i in range( 100):\n",
    "    global ws\n",
    "    ws.append(Pi(i))\n"
   ]
  },
  {
   "cell_type": "code",
   "execution_count": 256,
   "metadata": {
    "scrolled": true
   },
   "outputs": [
    {
     "data": {
      "image/png": "[encoded data removed]",
      "text/plain": [
       "<Figure size 432x288 with 1 Axes>"
      ]
     },
     "metadata": {},
     "output_type": "display_data"
    }
   ],
   "source": [
    "xpi = []\n",
    "for i in range( len( ws)):\n",
    "    xpi.append( np.pi)\n",
    "\n",
    "plt.style.use(\"bmh\")\n",
    "plt.scatter( list( range( len( ws))), ws, c=\"b\", marker=\".\")\n",
    "plt.plot( list( range( len( ws))), xpi, \"r-\")\n",
    "plt.ylim(2.9, 3.5)\n",
    "plt.xlim(right=100)  \n",
    "plt.xlim(left=1)\n",
    "plt.legend([\"π\", \"Serie de Gregory-Leibniz\"], bbox_to_anchor=(1.05 ,0.6), loc = \"upper left\")\n",
    "\n",
    "plt.show()"
   ]
  },
  {
   "cell_type": "code",
   "execution_count": null,
   "metadata": {},
   "outputs": [],
   "source": []
  }
 ],
 "metadata": {
  "kernelspec": {
   "display_name": "Python 3",
   "language": "python",
   "name": "python3"
  },
  "language_info": {
   "codemirror_mode": {
    "name": "ipython",
    "version": 3
   },
   "file_extension": ".py",
   "mimetype": "text/x-python",
   "name": "python",
   "nbconvert_exporter": "python",
   "pygments_lexer": "ipython3",
   "version": "3.6.5"
  }
 },
 "nbformat": 4,
 "nbformat_minor": 2
}
